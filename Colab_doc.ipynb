{
  "metadata": {
    "kernelspec": {
      "language": "python",
      "display_name": "Python 3",
      "name": "python3"
    },
    "language_info": {
      "name": "python",
      "version": "3.10.13",
      "mimetype": "text/x-python",
      "codemirror_mode": {
        "name": "ipython",
        "version": 3
      },
      "pygments_lexer": "ipython3",
      "nbconvert_exporter": "python",
      "file_extension": ".py"
    },
    "kaggle": {
      "accelerator": "none",
      "dataSources": [
        {
          "sourceId": 6277,
          "databundleVersionId": 323734,
          "sourceType": "competition"
        }
      ],
      "dockerImageVersionId": 30698,
      "isInternetEnabled": true,
      "language": "python",
      "sourceType": "notebook",
      "isGpuEnabled": false
    },
    "colab": {
      "name": "notebook4d2355454d",
      "provenance": []
    }
  },
  "nbformat_minor": 0,
  "nbformat": 4,
  "cells": [
    {
      "source": [
        "\n",
        "# IMPORTANT: RUN THIS CELL IN ORDER TO IMPORT YOUR KAGGLE DATA SOURCES\n",
        "# TO THE CORRECT LOCATION (/kaggle/input) IN YOUR NOTEBOOK,\n",
        "# THEN FEEL FREE TO DELETE THIS CELL.\n",
        "# NOTE: THIS NOTEBOOK ENVIRONMENT DIFFERS FROM KAGGLE'S PYTHON\n",
        "# ENVIRONMENT SO THERE MAY BE MISSING LIBRARIES USED BY YOUR\n",
        "# NOTEBOOK.\n",
        "\n",
        "import os\n",
        "import sys\n",
        "from tempfile import NamedTemporaryFile\n",
        "from urllib.request import urlopen\n",
        "from urllib.parse import unquote, urlparse\n",
        "from urllib.error import HTTPError\n",
        "from zipfile import ZipFile\n",
        "import tarfile\n",
        "import shutil\n",
        "\n",
        "CHUNK_SIZE = 40960\n",
        "DATA_SOURCE_MAPPING = 'quora-question-pairs:https%3A%2F%2Fstorage.googleapis.com%2Fkaggle-competitions-data%2Fkaggle-v2%2F6277%2F323734%2Fbundle%2Farchive.zip%3FX-Goog-Algorithm%3DGOOG4-RSA-SHA256%26X-Goog-Credential%3Dgcp-kaggle-com%2540kaggle-161607.iam.gserviceaccount.com%252F20240429%252Fauto%252Fstorage%252Fgoog4_request%26X-Goog-Date%3D20240429T222438Z%26X-Goog-Expires%3D259200%26X-Goog-SignedHeaders%3Dhost%26X-Goog-Signature%3D62b84225085887c4638c0dd34724646d8f3fe33aec2159061a8caeec5066b12497c43ff274ff2c2a244b5f427278c5d0593283842b5a2fb1e94d2b70500a97c5fffc123a65aa78161ef6bc6901a5f785d52629a34d293fd7febf12d60b603e90300a894f3abb91a800ef1291e91f702bb6fadbfdcf4e029ccf5854ad76bf7a0e7ff3f306f2ffd07f60b9cb329510010a448309aae20f3808ff555e570e8974e707d55f44db82ca0ea6b86086b7b142e7f74f8a9681efc56fd20c52aad69765fb8789395264fd133270d9b59d7a6712df92e9c16e21456fba14bf76590a115a37677c83c8e287c54d80ef49c9e33ffde4b5ee609d7a8225c8864df10ab7abb073'\n",
        "\n",
        "KAGGLE_INPUT_PATH='/kaggle/input'\n",
        "KAGGLE_WORKING_PATH='/kaggle/working'\n",
        "KAGGLE_SYMLINK='kaggle'\n",
        "\n",
        "!umount /kaggle/input/ 2> /dev/null\n",
        "shutil.rmtree('/kaggle/input', ignore_errors=True)\n",
        "os.makedirs(KAGGLE_INPUT_PATH, 0o777, exist_ok=True)\n",
        "os.makedirs(KAGGLE_WORKING_PATH, 0o777, exist_ok=True)\n",
        "\n",
        "try:\n",
        "  os.symlink(KAGGLE_INPUT_PATH, os.path.join(\"..\", 'input'), target_is_directory=True)\n",
        "except FileExistsError:\n",
        "  pass\n",
        "try:\n",
        "  os.symlink(KAGGLE_WORKING_PATH, os.path.join(\"..\", 'working'), target_is_directory=True)\n",
        "except FileExistsError:\n",
        "  pass\n",
        "\n",
        "for data_source_mapping in DATA_SOURCE_MAPPING.split(','):\n",
        "    directory, download_url_encoded = data_source_mapping.split(':')\n",
        "    download_url = unquote(download_url_encoded)\n",
        "    filename = urlparse(download_url).path\n",
        "    destination_path = os.path.join(KAGGLE_INPUT_PATH, directory)\n",
        "    try:\n",
        "        with urlopen(download_url) as fileres, NamedTemporaryFile() as tfile:\n",
        "            total_length = fileres.headers['content-length']\n",
        "            print(f'Downloading {directory}, {total_length} bytes compressed')\n",
        "            dl = 0\n",
        "            data = fileres.read(CHUNK_SIZE)\n",
        "            while len(data) > 0:\n",
        "                dl += len(data)\n",
        "                tfile.write(data)\n",
        "                done = int(50 * dl / int(total_length))\n",
        "                sys.stdout.write(f\"\\r[{'=' * done}{' ' * (50-done)}] {dl} bytes downloaded\")\n",
        "                sys.stdout.flush()\n",
        "                data = fileres.read(CHUNK_SIZE)\n",
        "            if filename.endswith('.zip'):\n",
        "              with ZipFile(tfile) as zfile:\n",
        "                zfile.extractall(destination_path)\n",
        "            else:\n",
        "              with tarfile.open(tfile.name) as tarfile:\n",
        "                tarfile.extractall(destination_path)\n",
        "            print(f'\\nDownloaded and uncompressed: {directory}')\n",
        "    except HTTPError as e:\n",
        "        print(f'Failed to load (likely expired) {download_url} to path {destination_path}')\n",
        "        continue\n",
        "    except OSError as e:\n",
        "        print(f'Failed to load {download_url} to path {destination_path}')\n",
        "        continue\n",
        "\n",
        "print('Data source import complete.')\n"
      ],
      "metadata": {
        "id": "XfRNgNHF9dTS",
        "outputId": "51d41ce5-2861-4281-aa3b-9f0e7454cada",
        "colab": {
          "base_uri": "https://localhost:8080/"
        }
      },
      "cell_type": "code",
      "outputs": [
        {
          "output_type": "stream",
          "name": "stdout",
          "text": [
            "Downloading quora-question-pairs, 323899260 bytes compressed\n",
            "[==================================================] 323899260 bytes downloaded\n",
            "Downloaded and uncompressed: quora-question-pairs\n",
            "Data source import complete.\n"
          ]
        }
      ],
      "execution_count": 1
    },
    {
      "cell_type": "code",
      "source": [
        "# This Python 3 environment comes with many helpful analytics libraries installed\n",
        "# It is defined by the kaggle/python Docker image: https://github.com/kaggle/docker-python\n",
        "# For example, here's several helpful packages to load\n",
        "\n",
        "import numpy as np # linear algebra\n",
        "import pandas as pd # data processing, CSV file I/O (e.g. pd.read_csv)\n",
        "\n",
        "# Input data files are available in the read-only \"../input/\" directory\n",
        "# For example, running this (by clicking run or pressing Shift+Enter) will list all files under the input directory\n",
        "\n",
        "import os\n",
        "for dirname, _, filenames in os.walk('/kaggle/input'):\n",
        "    for filename in filenames:\n",
        "        print(os.path.join(dirname, filename))\n",
        "\n",
        "# You can write up to 20GB to the current directory (/kaggle/working/) that gets preserved as output when you create a version using \"Save & Run All\"\n",
        "# You can also write temporary files to /kaggle/temp/, but they won't be saved outside of the current session"
      ],
      "metadata": {
        "_uuid": "8f2839f25d086af736a60e9eeb907d3b93b6e0e5",
        "_cell_guid": "b1076dfc-b9ad-4769-8c92-a6c4dae69d19",
        "execution": {
          "iopub.status.busy": "2024-04-29T22:10:37.487192Z",
          "iopub.execute_input": "2024-04-29T22:10:37.487701Z",
          "iopub.status.idle": "2024-04-29T22:10:37.947516Z",
          "shell.execute_reply.started": "2024-04-29T22:10:37.487659Z",
          "shell.execute_reply": "2024-04-29T22:10:37.946112Z"
        },
        "trusted": true,
        "id": "BiVV-49W9dTX",
        "outputId": "af9c4a49-276d-46b9-e130-94080bd493e5",
        "colab": {
          "base_uri": "https://localhost:8080/"
        }
      },
      "execution_count": 2,
      "outputs": [
        {
          "output_type": "stream",
          "name": "stdout",
          "text": [
            "/kaggle/input/quora-question-pairs/test.csv.zip\n",
            "/kaggle/input/quora-question-pairs/train.csv.zip\n",
            "/kaggle/input/quora-question-pairs/test.csv\n",
            "/kaggle/input/quora-question-pairs/sample_submission.csv.zip\n"
          ]
        }
      ]
    },
    {
      "cell_type": "code",
      "source": [
        "from google.colab import drive\n",
        "drive.mount('/content/drive')"
      ],
      "metadata": {
        "execution": {
          "iopub.status.busy": "2024-04-29T22:20:19.168114Z",
          "iopub.execute_input": "2024-04-29T22:20:19.168504Z",
          "iopub.status.idle": "2024-04-29T22:20:19.197915Z",
          "shell.execute_reply.started": "2024-04-29T22:20:19.168467Z",
          "shell.execute_reply": "2024-04-29T22:20:19.196207Z"
        },
        "trusted": true,
        "id": "NzrMyyIB9dTY",
        "outputId": "cbe857a7-d70a-4b97-bbcc-67ad7197ca0b",
        "colab": {
          "base_uri": "https://localhost:8080/"
        }
      },
      "execution_count": 3,
      "outputs": [
        {
          "output_type": "stream",
          "name": "stdout",
          "text": [
            "Mounted at /content/drive\n"
          ]
        }
      ]
    },
    {
      "cell_type": "code",
      "source": [
        "# Create a folder in the root directory\n",
        "!mkdir -p \"/content/drive/My Drive/NLP_Data\""
      ],
      "metadata": {
        "id": "RSVIuxSX-15d"
      },
      "execution_count": 8,
      "outputs": []
    },
    {
      "cell_type": "code",
      "source": [
        "train_data = pd.read_csv('/kaggle/input/quora-question-pairs/train.csv.zip')"
      ],
      "metadata": {
        "id": "RhiAJjIQ93M9"
      },
      "execution_count": 4,
      "outputs": []
    },
    {
      "cell_type": "code",
      "source": [
        "test_data = pd.read_csv('/kaggle/input/quora-question-pairs/test.csv.zip', low_memory=False)"
      ],
      "metadata": {
        "id": "25MbZmrn-B27"
      },
      "execution_count": 6,
      "outputs": []
    },
    {
      "cell_type": "code",
      "source": [
        "train_data.to_csv('train.csv')"
      ],
      "metadata": {
        "id": "5GF-Gmba-WW7"
      },
      "execution_count": 11,
      "outputs": []
    },
    {
      "cell_type": "code",
      "source": [
        "test_data.to_csv('test.csv')"
      ],
      "metadata": {
        "id": "Osc4GPx4_WKR"
      },
      "execution_count": 12,
      "outputs": []
    },
    {
      "cell_type": "markdown",
      "source": [
        "# Data Exploration"
      ],
      "metadata": {
        "id": "NVGULlkh9dTb"
      }
    },
    {
      "cell_type": "code",
      "source": [
        "train_data = pd.read_csv('/kaggle/input/quora-question-pairs/train.csv.zip')"
      ],
      "metadata": {
        "execution": {
          "iopub.status.busy": "2024-04-29T22:10:50.820435Z",
          "iopub.execute_input": "2024-04-29T22:10:50.821383Z",
          "iopub.status.idle": "2024-04-29T22:10:52.882898Z",
          "shell.execute_reply.started": "2024-04-29T22:10:50.821348Z",
          "shell.execute_reply": "2024-04-29T22:10:52.88188Z"
        },
        "trusted": true,
        "id": "lB6pvQgK9dTb"
      },
      "execution_count": null,
      "outputs": []
    },
    {
      "cell_type": "code",
      "source": [],
      "metadata": {
        "execution": {
          "iopub.status.busy": "2024-04-29T22:19:00.098724Z",
          "iopub.execute_input": "2024-04-29T22:19:00.099079Z",
          "iopub.status.idle": "2024-04-29T22:19:00.129848Z",
          "shell.execute_reply.started": "2024-04-29T22:19:00.099051Z",
          "shell.execute_reply": "2024-04-29T22:19:00.128124Z"
        },
        "trusted": true,
        "id": "NoxcAYo59dTc",
        "outputId": "0121db0d-05ca-48e8-d6bd-33ac5b996428"
      },
      "execution_count": null,
      "outputs": [
        {
          "traceback": [
            "\u001b[0;31m---------------------------------------------------------------------------\u001b[0m",
            "\u001b[0;31mNameError\u001b[0m                                 Traceback (most recent call last)",
            "Cell \u001b[0;32mIn[12], line 3\u001b[0m\n\u001b[1;32m      1\u001b[0m \u001b[38;5;28;01mimport\u001b[39;00m \u001b[38;5;21;01mos\u001b[39;00m\n\u001b[1;32m      2\u001b[0m os\u001b[38;5;241m.\u001b[39mgetcwd()\n\u001b[0;32m----> 3\u001b[0m \u001b[43msetwd\u001b[49m(\u001b[38;5;124m'\u001b[39m\u001b[38;5;124mC:\u001b[39m\u001b[38;5;130;01m\\t\u001b[39;00m\u001b[38;5;124memp\u001b[39m\u001b[38;5;124m'\u001b[39m)\n",
            "\u001b[0;31mNameError\u001b[0m: name 'setwd' is not defined"
          ],
          "ename": "NameError",
          "evalue": "name 'setwd' is not defined",
          "output_type": "error"
        }
      ]
    },
    {
      "cell_type": "code",
      "source": [
        "train_data.head()"
      ],
      "metadata": {
        "execution": {
          "iopub.status.busy": "2024-04-29T21:16:40.469689Z",
          "iopub.execute_input": "2024-04-29T21:16:40.470093Z",
          "iopub.status.idle": "2024-04-29T21:16:40.483141Z",
          "shell.execute_reply.started": "2024-04-29T21:16:40.470061Z",
          "shell.execute_reply": "2024-04-29T21:16:40.482078Z"
        },
        "trusted": true,
        "id": "XteDbaLK9dTe",
        "outputId": "ece9805e-5361-4c0b-897b-46a5295fc6b1"
      },
      "execution_count": null,
      "outputs": [
        {
          "execution_count": 12,
          "output_type": "execute_result",
          "data": {
            "text/plain": "   id  qid1  qid2                                          question1  \\\n0   0     1     2  What is the step by step guide to invest in sh...   \n1   1     3     4  What is the story of Kohinoor (Koh-i-Noor) Dia...   \n2   2     5     6  How can I increase the speed of my internet co...   \n3   3     7     8  Why am I mentally very lonely? How can I solve...   \n4   4     9    10  Which one dissolve in water quikly sugar, salt...   \n\n                                           question2  is_duplicate  \n0  What is the step by step guide to invest in sh...             0  \n1  What would happen if the Indian government sto...             0  \n2  How can Internet speed be increased by hacking...             0  \n3  Find the remainder when [math]23^{24}[/math] i...             0  \n4            Which fish would survive in salt water?             0  ",
            "text/html": "<div>\n<style scoped>\n    .dataframe tbody tr th:only-of-type {\n        vertical-align: middle;\n    }\n\n    .dataframe tbody tr th {\n        vertical-align: top;\n    }\n\n    .dataframe thead th {\n        text-align: right;\n    }\n</style>\n<table border=\"1\" class=\"dataframe\">\n  <thead>\n    <tr style=\"text-align: right;\">\n      <th></th>\n      <th>id</th>\n      <th>qid1</th>\n      <th>qid2</th>\n      <th>question1</th>\n      <th>question2</th>\n      <th>is_duplicate</th>\n    </tr>\n  </thead>\n  <tbody>\n    <tr>\n      <th>0</th>\n      <td>0</td>\n      <td>1</td>\n      <td>2</td>\n      <td>What is the step by step guide to invest in sh...</td>\n      <td>What is the step by step guide to invest in sh...</td>\n      <td>0</td>\n    </tr>\n    <tr>\n      <th>1</th>\n      <td>1</td>\n      <td>3</td>\n      <td>4</td>\n      <td>What is the story of Kohinoor (Koh-i-Noor) Dia...</td>\n      <td>What would happen if the Indian government sto...</td>\n      <td>0</td>\n    </tr>\n    <tr>\n      <th>2</th>\n      <td>2</td>\n      <td>5</td>\n      <td>6</td>\n      <td>How can I increase the speed of my internet co...</td>\n      <td>How can Internet speed be increased by hacking...</td>\n      <td>0</td>\n    </tr>\n    <tr>\n      <th>3</th>\n      <td>3</td>\n      <td>7</td>\n      <td>8</td>\n      <td>Why am I mentally very lonely? How can I solve...</td>\n      <td>Find the remainder when [math]23^{24}[/math] i...</td>\n      <td>0</td>\n    </tr>\n    <tr>\n      <th>4</th>\n      <td>4</td>\n      <td>9</td>\n      <td>10</td>\n      <td>Which one dissolve in water quikly sugar, salt...</td>\n      <td>Which fish would survive in salt water?</td>\n      <td>0</td>\n    </tr>\n  </tbody>\n</table>\n</div>"
          },
          "metadata": {}
        }
      ]
    },
    {
      "cell_type": "code",
      "source": [
        "train_data['question1']"
      ],
      "metadata": {
        "execution": {
          "iopub.status.busy": "2024-04-29T22:10:55.354224Z",
          "iopub.execute_input": "2024-04-29T22:10:55.355079Z",
          "iopub.status.idle": "2024-04-29T22:10:55.381232Z",
          "shell.execute_reply.started": "2024-04-29T22:10:55.355044Z",
          "shell.execute_reply": "2024-04-29T22:10:55.380079Z"
        },
        "trusted": true,
        "id": "o33Eqqnh9dTf",
        "outputId": "275a7ee4-6689-4aee-ecc2-808dff1e9607"
      },
      "execution_count": null,
      "outputs": [
        {
          "execution_count": 6,
          "output_type": "execute_result",
          "data": {
            "text/plain": "0         What is the step by step guide to invest in sh...\n1         What is the story of Kohinoor (Koh-i-Noor) Dia...\n2         How can I increase the speed of my internet co...\n3         Why am I mentally very lonely? How can I solve...\n4         Which one dissolve in water quikly sugar, salt...\n                                ...                        \n404285    How many keywords are there in the Racket prog...\n404286            Do you believe there is life after death?\n404287                                    What is one coin?\n404288    What is the approx annual cost of living while...\n404289                What is like to have sex with cousin?\nName: question1, Length: 404290, dtype: object"
          },
          "metadata": {}
        }
      ]
    },
    {
      "cell_type": "code",
      "source": [
        "train_data.shape"
      ],
      "metadata": {
        "execution": {
          "iopub.status.busy": "2024-04-29T21:16:49.267511Z",
          "iopub.execute_input": "2024-04-29T21:16:49.267916Z",
          "iopub.status.idle": "2024-04-29T21:16:49.274561Z",
          "shell.execute_reply.started": "2024-04-29T21:16:49.26788Z",
          "shell.execute_reply": "2024-04-29T21:16:49.273654Z"
        },
        "trusted": true,
        "id": "A3HZbQ0E9dTf",
        "outputId": "d22c751d-a26c-42b1-9fec-b8e036fb8458"
      },
      "execution_count": null,
      "outputs": [
        {
          "execution_count": 13,
          "output_type": "execute_result",
          "data": {
            "text/plain": "(404290, 6)"
          },
          "metadata": {}
        }
      ]
    },
    {
      "cell_type": "code",
      "source": [],
      "metadata": {
        "id": "N0z01Z0W9dTg"
      },
      "execution_count": null,
      "outputs": []
    },
    {
      "cell_type": "code",
      "source": [
        "test_data = pd.read_csv('/kaggle/input/quora-question-pairs/test.csv.zip', low_memory=False)"
      ],
      "metadata": {
        "execution": {
          "iopub.status.busy": "2024-04-29T21:16:14.738409Z",
          "iopub.execute_input": "2024-04-29T21:16:14.738834Z",
          "iopub.status.idle": "2024-04-29T21:16:31.504492Z",
          "shell.execute_reply.started": "2024-04-29T21:16:14.738803Z",
          "shell.execute_reply": "2024-04-29T21:16:31.503185Z"
        },
        "trusted": true,
        "id": "Yl8I91CG9dTg"
      },
      "execution_count": null,
      "outputs": []
    },
    {
      "cell_type": "code",
      "source": [
        "test_data.head()"
      ],
      "metadata": {
        "execution": {
          "iopub.status.busy": "2024-04-29T21:16:54.638883Z",
          "iopub.execute_input": "2024-04-29T21:16:54.639302Z",
          "iopub.status.idle": "2024-04-29T21:16:54.651029Z",
          "shell.execute_reply.started": "2024-04-29T21:16:54.639269Z",
          "shell.execute_reply": "2024-04-29T21:16:54.650119Z"
        },
        "trusted": true,
        "id": "K_qaEM_v9dTg",
        "outputId": "ff851410-b806-40a8-ba72-00f580419ecc"
      },
      "execution_count": null,
      "outputs": [
        {
          "execution_count": 14,
          "output_type": "execute_result",
          "data": {
            "text/plain": "  test_id                                          question1  \\\n0       0  How does the Surface Pro himself 4 compare wit...   \n1       1  Should I have a hair transplant at age 24? How...   \n2       2  What but is the best way to send money from Ch...   \n3       3                        Which food not emulsifiers?   \n4       4                   How \"aberystwyth\" start reading?   \n\n                                           question2  \n0  Why did Microsoft choose core m3 and not core ...  \n1        How much cost does hair transplant require?  \n2                      What you send money to China?  \n3                                  What foods fibre?  \n4                     How their can I start reading?  ",
            "text/html": "<div>\n<style scoped>\n    .dataframe tbody tr th:only-of-type {\n        vertical-align: middle;\n    }\n\n    .dataframe tbody tr th {\n        vertical-align: top;\n    }\n\n    .dataframe thead th {\n        text-align: right;\n    }\n</style>\n<table border=\"1\" class=\"dataframe\">\n  <thead>\n    <tr style=\"text-align: right;\">\n      <th></th>\n      <th>test_id</th>\n      <th>question1</th>\n      <th>question2</th>\n    </tr>\n  </thead>\n  <tbody>\n    <tr>\n      <th>0</th>\n      <td>0</td>\n      <td>How does the Surface Pro himself 4 compare wit...</td>\n      <td>Why did Microsoft choose core m3 and not core ...</td>\n    </tr>\n    <tr>\n      <th>1</th>\n      <td>1</td>\n      <td>Should I have a hair transplant at age 24? How...</td>\n      <td>How much cost does hair transplant require?</td>\n    </tr>\n    <tr>\n      <th>2</th>\n      <td>2</td>\n      <td>What but is the best way to send money from Ch...</td>\n      <td>What you send money to China?</td>\n    </tr>\n    <tr>\n      <th>3</th>\n      <td>3</td>\n      <td>Which food not emulsifiers?</td>\n      <td>What foods fibre?</td>\n    </tr>\n    <tr>\n      <th>4</th>\n      <td>4</td>\n      <td>How \"aberystwyth\" start reading?</td>\n      <td>How their can I start reading?</td>\n    </tr>\n  </tbody>\n</table>\n</div>"
          },
          "metadata": {}
        }
      ]
    },
    {
      "cell_type": "code",
      "source": [
        "test_data.shape"
      ],
      "metadata": {
        "execution": {
          "iopub.status.busy": "2024-04-29T21:17:11.284771Z",
          "iopub.execute_input": "2024-04-29T21:17:11.285189Z",
          "iopub.status.idle": "2024-04-29T21:17:11.292818Z",
          "shell.execute_reply.started": "2024-04-29T21:17:11.285153Z",
          "shell.execute_reply": "2024-04-29T21:17:11.291564Z"
        },
        "trusted": true,
        "id": "BtRkcS6H9dTh",
        "outputId": "5cc14dd0-6c99-48d3-b818-585a40e1bbff"
      },
      "execution_count": null,
      "outputs": [
        {
          "execution_count": 15,
          "output_type": "execute_result",
          "data": {
            "text/plain": "(3563475, 3)"
          },
          "metadata": {}
        }
      ]
    },
    {
      "cell_type": "code",
      "source": [
        "test = pd.read_csv('/kaggle/input/quora-question-pairs/test.csv')"
      ],
      "metadata": {
        "execution": {
          "iopub.status.busy": "2024-04-29T22:18:26.119383Z",
          "iopub.execute_input": "2024-04-29T22:18:26.119831Z",
          "iopub.status.idle": "2024-04-29T22:18:33.445323Z",
          "shell.execute_reply.started": "2024-04-29T22:18:26.119801Z",
          "shell.execute_reply": "2024-04-29T22:18:33.444116Z"
        },
        "trusted": true,
        "id": "9fuXk6tj9dTh"
      },
      "execution_count": null,
      "outputs": []
    }
  ]
}